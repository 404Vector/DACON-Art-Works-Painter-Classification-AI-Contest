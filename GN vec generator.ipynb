{
 "cells": [
  {
   "cell_type": "markdown",
   "metadata": {},
   "source": [
    "# GN Vector Creater\n",
    "\n",
    "이 노트북은 artist_info.csv로부터 artist와 genre, nationality 정보를 읽고 artist에 대한 [genre, nationality] vector를 생성합니다."
   ]
  },
  {
   "cell_type": "markdown",
   "metadata": {},
   "source": [
    "### Import"
   ]
  },
  {
   "cell_type": "code",
   "execution_count": 30,
   "metadata": {},
   "outputs": [],
   "source": [
    "import numpy as np\n",
    "import matplotlib.pyplot as plt\n",
    "import pandas as pd\n",
    "import argparse"
   ]
  },
  {
   "cell_type": "markdown",
   "metadata": {},
   "source": [
    "### Read argument"
   ]
  },
  {
   "cell_type": "code",
   "execution_count": 31,
   "metadata": {},
   "outputs": [],
   "source": [
    "parser = argparse.ArgumentParser()\n",
    "parser.add_argument('--data_path', type=str, default=\"data/\")\n",
    "parser.add_argument('--file_name', type=str, default=\"artists_vector.csv\")\n",
    "parser.add_argument('--enable_multi_label', type=bool, default=False)\n",
    "parser.add_argument('--save_vector_as_array', type=bool, default=False)\n",
    "\n",
    "args = parser.parse_args('')"
   ]
  },
  {
   "cell_type": "markdown",
   "metadata": {},
   "source": [
    "### Load artist_info.csv"
   ]
  },
  {
   "cell_type": "code",
   "execution_count": 32,
   "metadata": {},
   "outputs": [
    {
     "data": {
      "text/html": [
       "<div>\n",
       "<style scoped>\n",
       "    .dataframe tbody tr th:only-of-type {\n",
       "        vertical-align: middle;\n",
       "    }\n",
       "\n",
       "    .dataframe tbody tr th {\n",
       "        vertical-align: top;\n",
       "    }\n",
       "\n",
       "    .dataframe thead th {\n",
       "        text-align: right;\n",
       "    }\n",
       "</style>\n",
       "<table border=\"1\" class=\"dataframe\">\n",
       "  <thead>\n",
       "    <tr style=\"text-align: right;\">\n",
       "      <th></th>\n",
       "      <th>name</th>\n",
       "      <th>years</th>\n",
       "      <th>genre</th>\n",
       "      <th>nationality</th>\n",
       "    </tr>\n",
       "  </thead>\n",
       "  <tbody>\n",
       "    <tr>\n",
       "      <th>0</th>\n",
       "      <td>Amedeo Modigliani</td>\n",
       "      <td>1884 - 1920</td>\n",
       "      <td>Expressionism</td>\n",
       "      <td>Italian</td>\n",
       "    </tr>\n",
       "    <tr>\n",
       "      <th>1</th>\n",
       "      <td>Vasiliy Kandinskiy</td>\n",
       "      <td>1866 - 1944</td>\n",
       "      <td>Expressionism,Abstractionism</td>\n",
       "      <td>Russian</td>\n",
       "    </tr>\n",
       "    <tr>\n",
       "      <th>2</th>\n",
       "      <td>Diego Rivera</td>\n",
       "      <td>1886 - 1957</td>\n",
       "      <td>Social Realism,Muralism</td>\n",
       "      <td>Mexican</td>\n",
       "    </tr>\n",
       "    <tr>\n",
       "      <th>3</th>\n",
       "      <td>Claude Monet</td>\n",
       "      <td>1840 - 1926</td>\n",
       "      <td>Impressionism</td>\n",
       "      <td>French</td>\n",
       "    </tr>\n",
       "    <tr>\n",
       "      <th>4</th>\n",
       "      <td>Rene Magritte</td>\n",
       "      <td>1898 - 1967</td>\n",
       "      <td>Surrealism,Impressionism</td>\n",
       "      <td>Belgian</td>\n",
       "    </tr>\n",
       "  </tbody>\n",
       "</table>\n",
       "</div>"
      ],
      "text/plain": [
       "                 name        years                         genre nationality\n",
       "0   Amedeo Modigliani  1884 - 1920                 Expressionism     Italian\n",
       "1  Vasiliy Kandinskiy  1866 - 1944  Expressionism,Abstractionism     Russian\n",
       "2        Diego Rivera  1886 - 1957       Social Realism,Muralism     Mexican\n",
       "3        Claude Monet  1840 - 1926                 Impressionism      French\n",
       "4       Rene Magritte  1898 - 1967      Surrealism,Impressionism     Belgian"
      ]
     },
     "execution_count": 32,
     "metadata": {},
     "output_type": "execute_result"
    }
   ],
   "source": [
    "artists_info = pd.DataFrame(pd.read_csv(args.data_path + 'artists_info.csv'))\n",
    "artists_info.head()"
   ]
  },
  {
   "cell_type": "markdown",
   "metadata": {},
   "source": [
    "### Split genre, nationality"
   ]
  },
  {
   "cell_type": "code",
   "execution_count": 33,
   "metadata": {},
   "outputs": [],
   "source": [
    "if(args.enable_multi_label):\n",
    "    artists_info['genre'] = [g.split(',') for g in artists_info['genre']]\n",
    "    artists_info['nationality'] = [nt.split(',') for nt in artists_info['nationality']]"
   ]
  },
  {
   "cell_type": "markdown",
   "metadata": {},
   "source": [
    "### Get unique list"
   ]
  },
  {
   "cell_type": "code",
   "execution_count": 34,
   "metadata": {},
   "outputs": [
    {
     "name": "stdout",
     "output_type": "stream",
     "text": [
      "['Northern Renaissance', 'Romanticism', 'Impressionism,Post-Impressionism', 'Cubism', 'Symbolism', 'Symbolism,Expressionism', 'High Renaissance', 'Expressionism,Abstractionism', 'Baroque', 'Impressionism', 'Mannerism', 'Early Renaissance', 'Post-Impressionism', 'Realism', 'Surrealism,Impressionism', 'Primitivism,Surrealism', 'Proto Renaissance', 'Suprematism', 'Pop Art', 'Abstract Expressionism', 'Byzantine Art', 'Surrealism', 'Symbolism,Post-Impressionism', 'Symbolism,Art Nouveau', 'Primitivism', 'Expressionism', 'Expressionism,Abstractionism,Surrealism', 'High Renaissance,Mannerism', 'Neoplasticism', 'Realism,Impressionism', 'Social Realism,Muralism']  total is  31\n"
     ]
    }
   ],
   "source": [
    "genre_key = []\n",
    "for g in artists_info['genre']:\n",
    "    if(args.enable_multi_label):\n",
    "        for gg in g:\n",
    "            genre_key.append(gg)\n",
    "    else:\n",
    "        genre_key.append(g)\n",
    "genre_key = list(set(genre_key))\n",
    "print(genre_key, ' total is ', len(genre_key))"
   ]
  },
  {
   "cell_type": "code",
   "execution_count": 35,
   "metadata": {},
   "outputs": [
    {
     "name": "stdout",
     "output_type": "stream",
     "text": [
      "['Austrian', 'Belgian', 'Russian', 'Italian', 'Spanish,Greek', 'French,British', 'Mexican', 'Spanish', 'Flemish', 'British', 'French,Jewish,Belarusian', 'German', 'German,Swiss', 'American', 'Dutch', 'French', 'Norwegian']  total is  17\n"
     ]
    }
   ],
   "source": [
    "nationality_key = []\n",
    "for nt in artists_info['nationality']:\n",
    "    if(args.enable_multi_label):\n",
    "        for ntt in nt:\n",
    "            nationality_key.append(ntt)\n",
    "    else:\n",
    "        nationality_key.append(nt)\n",
    "\n",
    "nationality_key = list(set(nationality_key))\n",
    "print(nationality_key, ' total is ', len(nationality_key))"
   ]
  },
  {
   "cell_type": "code",
   "execution_count": 36,
   "metadata": {},
   "outputs": [],
   "source": [
    "def encoding(key, value):\n",
    "    if(args.save_vector_as_array):\n",
    "        encoded_vec = np.zeros(len(key), np.byte)\n",
    "        if(args.enable_multi_label):\n",
    "            for v in value:\n",
    "                encoded_vec[key.index(v)] = 1\n",
    "        else:\n",
    "            encoded_vec[key.index(value)] = 1\n",
    "        return encoded_vec\n",
    "    else:\n",
    "        return key.index(value)"
   ]
  },
  {
   "cell_type": "markdown",
   "metadata": {},
   "source": [
    "### Make DataFrame"
   ]
  },
  {
   "cell_type": "code",
   "execution_count": 37,
   "metadata": {},
   "outputs": [
    {
     "data": {
      "text/html": [
       "<div>\n",
       "<style scoped>\n",
       "    .dataframe tbody tr th:only-of-type {\n",
       "        vertical-align: middle;\n",
       "    }\n",
       "\n",
       "    .dataframe tbody tr th {\n",
       "        vertical-align: top;\n",
       "    }\n",
       "\n",
       "    .dataframe thead th {\n",
       "        text-align: right;\n",
       "    }\n",
       "</style>\n",
       "<table border=\"1\" class=\"dataframe\">\n",
       "  <thead>\n",
       "    <tr style=\"text-align: right;\">\n",
       "      <th></th>\n",
       "      <th>index</th>\n",
       "      <th>name</th>\n",
       "      <th>genre</th>\n",
       "      <th>nationality</th>\n",
       "    </tr>\n",
       "  </thead>\n",
       "  <tbody>\n",
       "    <tr>\n",
       "      <th>0</th>\n",
       "      <td>0</td>\n",
       "      <td>Amedeo Modigliani</td>\n",
       "      <td>[0, 0, 0, 0, 0, 0, 0, 0, 0, 0, 0, 0, 0, 0, 0, ...</td>\n",
       "      <td>[0, 0, 0, 1, 0, 0, 0, 0, 0, 0, 0, 0, 0, 0, 0, ...</td>\n",
       "    </tr>\n",
       "    <tr>\n",
       "      <th>1</th>\n",
       "      <td>1</td>\n",
       "      <td>Vasiliy Kandinskiy</td>\n",
       "      <td>[0, 0, 0, 0, 0, 0, 0, 1, 0, 0, 0, 0, 0, 0, 0, ...</td>\n",
       "      <td>[0, 0, 1, 0, 0, 0, 0, 0, 0, 0, 0, 0, 0, 0, 0, ...</td>\n",
       "    </tr>\n",
       "    <tr>\n",
       "      <th>2</th>\n",
       "      <td>2</td>\n",
       "      <td>Diego Rivera</td>\n",
       "      <td>[0, 0, 0, 0, 0, 0, 0, 0, 0, 0, 0, 0, 0, 0, 0, ...</td>\n",
       "      <td>[0, 0, 0, 0, 0, 0, 1, 0, 0, 0, 0, 0, 0, 0, 0, ...</td>\n",
       "    </tr>\n",
       "    <tr>\n",
       "      <th>3</th>\n",
       "      <td>3</td>\n",
       "      <td>Claude Monet</td>\n",
       "      <td>[0, 0, 0, 0, 0, 0, 0, 0, 0, 1, 0, 0, 0, 0, 0, ...</td>\n",
       "      <td>[0, 0, 0, 0, 0, 0, 0, 0, 0, 0, 0, 0, 0, 0, 0, ...</td>\n",
       "    </tr>\n",
       "    <tr>\n",
       "      <th>4</th>\n",
       "      <td>4</td>\n",
       "      <td>Rene Magritte</td>\n",
       "      <td>[0, 0, 0, 0, 0, 0, 0, 0, 0, 0, 0, 0, 0, 0, 1, ...</td>\n",
       "      <td>[0, 1, 0, 0, 0, 0, 0, 0, 0, 0, 0, 0, 0, 0, 0, ...</td>\n",
       "    </tr>\n",
       "  </tbody>\n",
       "</table>\n",
       "</div>"
      ],
      "text/plain": [
       "   index                name  \\\n",
       "0      0   Amedeo Modigliani   \n",
       "1      1  Vasiliy Kandinskiy   \n",
       "2      2        Diego Rivera   \n",
       "3      3        Claude Monet   \n",
       "4      4       Rene Magritte   \n",
       "\n",
       "                                               genre  \\\n",
       "0  [0, 0, 0, 0, 0, 0, 0, 0, 0, 0, 0, 0, 0, 0, 0, ...   \n",
       "1  [0, 0, 0, 0, 0, 0, 0, 1, 0, 0, 0, 0, 0, 0, 0, ...   \n",
       "2  [0, 0, 0, 0, 0, 0, 0, 0, 0, 0, 0, 0, 0, 0, 0, ...   \n",
       "3  [0, 0, 0, 0, 0, 0, 0, 0, 0, 1, 0, 0, 0, 0, 0, ...   \n",
       "4  [0, 0, 0, 0, 0, 0, 0, 0, 0, 0, 0, 0, 0, 0, 1, ...   \n",
       "\n",
       "                                         nationality  \n",
       "0  [0, 0, 0, 1, 0, 0, 0, 0, 0, 0, 0, 0, 0, 0, 0, ...  \n",
       "1  [0, 0, 1, 0, 0, 0, 0, 0, 0, 0, 0, 0, 0, 0, 0, ...  \n",
       "2  [0, 0, 0, 0, 0, 0, 1, 0, 0, 0, 0, 0, 0, 0, 0, ...  \n",
       "3  [0, 0, 0, 0, 0, 0, 0, 0, 0, 0, 0, 0, 0, 0, 0, ...  \n",
       "4  [0, 1, 0, 0, 0, 0, 0, 0, 0, 0, 0, 0, 0, 0, 0, ...  "
      ]
     },
     "execution_count": 37,
     "metadata": {},
     "output_type": "execute_result"
    }
   ],
   "source": [
    "df = pd.DataFrame()\n",
    "df['index'] = range(50)\n",
    "df['name'] = artists_info['name']\n",
    "df['genre'] = [encoding(genre_key, ge) for ge in artists_info['genre']]\n",
    "df['nationality'] = [encoding(nationality_key, nt) for nt in artists_info['nationality']]\n",
    "df.head()"
   ]
  },
  {
   "cell_type": "markdown",
   "metadata": {},
   "source": [
    "### Save CSV"
   ]
  },
  {
   "cell_type": "code",
   "execution_count": 38,
   "metadata": {},
   "outputs": [],
   "source": [
    "df.to_csv(args.data_path + args.file_name)"
   ]
  },
  {
   "cell_type": "code",
   "execution_count": null,
   "metadata": {},
   "outputs": [],
   "source": []
  }
 ],
 "metadata": {
  "kernelspec": {
   "display_name": "Python 3.9.13 ('vtorch')",
   "language": "python",
   "name": "python3"
  },
  "language_info": {
   "codemirror_mode": {
    "name": "ipython",
    "version": 3
   },
   "file_extension": ".py",
   "mimetype": "text/x-python",
   "name": "python",
   "nbconvert_exporter": "python",
   "pygments_lexer": "ipython3",
   "version": "3.9.13"
  },
  "orig_nbformat": 4,
  "vscode": {
   "interpreter": {
    "hash": "3b32816dcbfb6e72e5dfe6881cc4b6e78909b539c70244ad0f225fcecde04b6f"
   }
  }
 },
 "nbformat": 4,
 "nbformat_minor": 2
}
