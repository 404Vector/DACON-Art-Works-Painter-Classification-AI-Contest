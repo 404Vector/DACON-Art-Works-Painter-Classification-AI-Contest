{
  "cells": [
    {
      "cell_type": "code",
      "execution_count": null,
      "metadata": {
        "colab": {
          "base_uri": "https://localhost:8080/"
        },
        "id": "pPyqgZXrQ-xz",
        "outputId": "0b644559-c405-4f55-fd0c-6fccb9a863c1"
      },
      "outputs": [
        {
          "output_type": "stream",
          "name": "stdout",
          "text": [
            "Mon Oct 17 00:26:58 2022       \n",
            "+-----------------------------------------------------------------------------+\n",
            "| NVIDIA-SMI 460.32.03    Driver Version: 460.32.03    CUDA Version: 11.2     |\n",
            "|-------------------------------+----------------------+----------------------+\n",
            "| GPU  Name        Persistence-M| Bus-Id        Disp.A | Volatile Uncorr. ECC |\n",
            "| Fan  Temp  Perf  Pwr:Usage/Cap|         Memory-Usage | GPU-Util  Compute M. |\n",
            "|                               |                      |               MIG M. |\n",
            "|===============================+======================+======================|\n",
            "|   0  Tesla T4            Off  | 00000000:00:04.0 Off |                    0 |\n",
            "| N/A   50C    P8    10W /  70W |      0MiB / 15109MiB |      0%      Default |\n",
            "|                               |                      |                  N/A |\n",
            "+-------------------------------+----------------------+----------------------+\n",
            "                                                                               \n",
            "+-----------------------------------------------------------------------------+\n",
            "| Processes:                                                                  |\n",
            "|  GPU   GI   CI        PID   Type   Process name                  GPU Memory |\n",
            "|        ID   ID                                                   Usage      |\n",
            "|=============================================================================|\n",
            "|  No running processes found                                                 |\n",
            "+-----------------------------------------------------------------------------+\n"
          ]
        }
      ],
      "source": [
        "!nvidia-smi"
      ]
    },
    {
      "cell_type": "code",
      "execution_count": null,
      "metadata": {
        "id": "CdDjtGlmQSHf"
      },
      "outputs": [],
      "source": [
        "!unzip -qq \"./drive/MyDrive/data/open.zip\""
      ]
    },
    {
      "cell_type": "code",
      "execution_count": null,
      "metadata": {
        "id": "xbq86cvRsJEt"
      },
      "outputs": [],
      "source": [
        "import glob\n",
        "import cv2\n",
        "import pandas as pd\n",
        "import matplotlib.pyplot as plt\n",
        "import argparse\n",
        "import random\n",
        "import os\n",
        "import numpy as np\n",
        "\n",
        "import torch\n",
        "import torch.nn as nn\n",
        "import torch.optim as optim\n",
        "import torch.nn.functional as F\n",
        "from torch.utils.data import Dataset, DataLoader\n",
        "\n",
        "from tqdm import tqdm\n",
        "\n",
        "import albumentations as A\n",
        "from albumentations.pytorch.transforms import ToTensorV2\n",
        "\n",
        "import torchvision.models as models\n",
        "\n",
        "from sklearn import preprocessing\n",
        "from sklearn.metrics import f1_score\n",
        "from sklearn.model_selection import train_test_split"
      ]
    },
    {
      "cell_type": "code",
      "execution_count": null,
      "metadata": {
        "colab": {
          "base_uri": "https://localhost:8080/"
        },
        "id": "SWoALKkyRqgQ",
        "outputId": "37e68cc1-b652-4fe2-a063-c23e9c3f2b65"
      },
      "outputs": [
        {
          "output_type": "execute_result",
          "data": {
            "text/plain": [
              "Namespace(batch_size=32, device='cuda', epochs=20, img_size=224, lr=0.001, seed=999)"
            ]
          },
          "metadata": {},
          "execution_count": 2
        }
      ],
      "source": [
        "parser = argparse.ArgumentParser()\n",
        "parser.add_argument('--epochs', type=int, default=20)\n",
        "parser.add_argument('--lr', type=float, default=0.001)\n",
        "parser.add_argument('--batch_size', type=int, default=32)\n",
        "parser.add_argument('--seed', type=int, default=999)\n",
        "parser.add_argument('--img_size', type=int, default=224)\n",
        "parser.add_argument('--device', default='cuda')\n",
        "\n",
        "args = parser.parse_args('')\n",
        "args"
      ]
    },
    {
      "cell_type": "code",
      "execution_count": null,
      "metadata": {
        "id": "kcmNNyG2RsGF"
      },
      "outputs": [],
      "source": [
        "def seed_everything(seed):\n",
        "    random.seed(seed)\n",
        "    os.environ['PYTHONHASHSEED'] = str(seed)\n",
        "    np.random.seed(seed)\n",
        "    torch.manual_seed(seed)\n",
        "    torch.cuda.manual_seed(seed)\n",
        "    torch.backends.cudnn.deterministic = True\n",
        "    torch.backends.cudnn.benchmark = True\n",
        "\n",
        "seed_everything(args.seed)"
      ]
    },
    {
      "cell_type": "code",
      "execution_count": null,
      "metadata": {
        "colab": {
          "base_uri": "https://localhost:8080/"
        },
        "id": "JGlP_m0ZRt5r",
        "outputId": "d192f323-2919-41be-b27c-096a0d8f8955"
      },
      "outputs": [
        {
          "output_type": "stream",
          "name": "stderr",
          "text": [
            "/usr/local/lib/python3.7/dist-packages/ipykernel_launcher.py:3: SettingWithCopyWarning: \n",
            "A value is trying to be set on a copy of a slice from a DataFrame\n",
            "\n",
            "See the caveats in the documentation: https://pandas.pydata.org/pandas-docs/stable/user_guide/indexing.html#returning-a-view-versus-a-copy\n",
            "  This is separate from the ipykernel package so we can avoid doing imports until\n",
            "/usr/local/lib/python3.7/dist-packages/ipykernel_launcher.py:4: SettingWithCopyWarning: \n",
            "A value is trying to be set on a copy of a slice from a DataFrame\n",
            "\n",
            "See the caveats in the documentation: https://pandas.pydata.org/pandas-docs/stable/user_guide/indexing.html#returning-a-view-versus-a-copy\n",
            "  after removing the cwd from sys.path.\n",
            "/usr/local/lib/python3.7/dist-packages/ipykernel_launcher.py:5: SettingWithCopyWarning: \n",
            "A value is trying to be set on a copy of a slice from a DataFrame\n",
            "\n",
            "See the caveats in the documentation: https://pandas.pydata.org/pandas-docs/stable/user_guide/indexing.html#returning-a-view-versus-a-copy\n",
            "  \"\"\"\n"
          ]
        }
      ],
      "source": [
        "df = pd.read_csv('./train.csv')\n",
        "# 잘못된 label 수정\n",
        "df['artist'][3896] = 'Titian'\n",
        "df['id'][3986] = 3986\n",
        "df['artist'][3986] = 'Alfred Sisley'"
      ]
    },
    {
      "cell_type": "code",
      "execution_count": null,
      "metadata": {
        "colab": {
          "base_uri": "https://localhost:8080/",
          "height": 206
        },
        "id": "v6YLbdEARvkM",
        "outputId": "fb545f4e-5e0a-491c-c737-1cef32baa7e4"
      },
      "outputs": [
        {
          "output_type": "execute_result",
          "data": {
            "text/plain": [
              "   id          img_path  artist\n",
              "0   0  ./train/0000.jpg       9\n",
              "1   1  ./train/0001.jpg      48\n",
              "2   2  ./train/0002.jpg       7\n",
              "3   3  ./train/0003.jpg      10\n",
              "4   4  ./train/0004.jpg      24"
            ],
            "text/html": [
              "\n",
              "  <div id=\"df-ac3c5b9d-3dfc-47a2-bbf1-91a5b24215e0\">\n",
              "    <div class=\"colab-df-container\">\n",
              "      <div>\n",
              "<style scoped>\n",
              "    .dataframe tbody tr th:only-of-type {\n",
              "        vertical-align: middle;\n",
              "    }\n",
              "\n",
              "    .dataframe tbody tr th {\n",
              "        vertical-align: top;\n",
              "    }\n",
              "\n",
              "    .dataframe thead th {\n",
              "        text-align: right;\n",
              "    }\n",
              "</style>\n",
              "<table border=\"1\" class=\"dataframe\">\n",
              "  <thead>\n",
              "    <tr style=\"text-align: right;\">\n",
              "      <th></th>\n",
              "      <th>id</th>\n",
              "      <th>img_path</th>\n",
              "      <th>artist</th>\n",
              "    </tr>\n",
              "  </thead>\n",
              "  <tbody>\n",
              "    <tr>\n",
              "      <th>0</th>\n",
              "      <td>0</td>\n",
              "      <td>./train/0000.jpg</td>\n",
              "      <td>9</td>\n",
              "    </tr>\n",
              "    <tr>\n",
              "      <th>1</th>\n",
              "      <td>1</td>\n",
              "      <td>./train/0001.jpg</td>\n",
              "      <td>48</td>\n",
              "    </tr>\n",
              "    <tr>\n",
              "      <th>2</th>\n",
              "      <td>2</td>\n",
              "      <td>./train/0002.jpg</td>\n",
              "      <td>7</td>\n",
              "    </tr>\n",
              "    <tr>\n",
              "      <th>3</th>\n",
              "      <td>3</td>\n",
              "      <td>./train/0003.jpg</td>\n",
              "      <td>10</td>\n",
              "    </tr>\n",
              "    <tr>\n",
              "      <th>4</th>\n",
              "      <td>4</td>\n",
              "      <td>./train/0004.jpg</td>\n",
              "      <td>24</td>\n",
              "    </tr>\n",
              "  </tbody>\n",
              "</table>\n",
              "</div>\n",
              "      <button class=\"colab-df-convert\" onclick=\"convertToInteractive('df-ac3c5b9d-3dfc-47a2-bbf1-91a5b24215e0')\"\n",
              "              title=\"Convert this dataframe to an interactive table.\"\n",
              "              style=\"display:none;\">\n",
              "        \n",
              "  <svg xmlns=\"http://www.w3.org/2000/svg\" height=\"24px\"viewBox=\"0 0 24 24\"\n",
              "       width=\"24px\">\n",
              "    <path d=\"M0 0h24v24H0V0z\" fill=\"none\"/>\n",
              "    <path d=\"M18.56 5.44l.94 2.06.94-2.06 2.06-.94-2.06-.94-.94-2.06-.94 2.06-2.06.94zm-11 1L8.5 8.5l.94-2.06 2.06-.94-2.06-.94L8.5 2.5l-.94 2.06-2.06.94zm10 10l.94 2.06.94-2.06 2.06-.94-2.06-.94-.94-2.06-.94 2.06-2.06.94z\"/><path d=\"M17.41 7.96l-1.37-1.37c-.4-.4-.92-.59-1.43-.59-.52 0-1.04.2-1.43.59L10.3 9.45l-7.72 7.72c-.78.78-.78 2.05 0 2.83L4 21.41c.39.39.9.59 1.41.59.51 0 1.02-.2 1.41-.59l7.78-7.78 2.81-2.81c.8-.78.8-2.07 0-2.86zM5.41 20L4 18.59l7.72-7.72 1.47 1.35L5.41 20z\"/>\n",
              "  </svg>\n",
              "      </button>\n",
              "      \n",
              "  <style>\n",
              "    .colab-df-container {\n",
              "      display:flex;\n",
              "      flex-wrap:wrap;\n",
              "      gap: 12px;\n",
              "    }\n",
              "\n",
              "    .colab-df-convert {\n",
              "      background-color: #E8F0FE;\n",
              "      border: none;\n",
              "      border-radius: 50%;\n",
              "      cursor: pointer;\n",
              "      display: none;\n",
              "      fill: #1967D2;\n",
              "      height: 32px;\n",
              "      padding: 0 0 0 0;\n",
              "      width: 32px;\n",
              "    }\n",
              "\n",
              "    .colab-df-convert:hover {\n",
              "      background-color: #E2EBFA;\n",
              "      box-shadow: 0px 1px 2px rgba(60, 64, 67, 0.3), 0px 1px 3px 1px rgba(60, 64, 67, 0.15);\n",
              "      fill: #174EA6;\n",
              "    }\n",
              "\n",
              "    [theme=dark] .colab-df-convert {\n",
              "      background-color: #3B4455;\n",
              "      fill: #D2E3FC;\n",
              "    }\n",
              "\n",
              "    [theme=dark] .colab-df-convert:hover {\n",
              "      background-color: #434B5C;\n",
              "      box-shadow: 0px 1px 3px 1px rgba(0, 0, 0, 0.15);\n",
              "      filter: drop-shadow(0px 1px 2px rgba(0, 0, 0, 0.3));\n",
              "      fill: #FFFFFF;\n",
              "    }\n",
              "  </style>\n",
              "\n",
              "      <script>\n",
              "        const buttonEl =\n",
              "          document.querySelector('#df-ac3c5b9d-3dfc-47a2-bbf1-91a5b24215e0 button.colab-df-convert');\n",
              "        buttonEl.style.display =\n",
              "          google.colab.kernel.accessAllowed ? 'block' : 'none';\n",
              "\n",
              "        async function convertToInteractive(key) {\n",
              "          const element = document.querySelector('#df-ac3c5b9d-3dfc-47a2-bbf1-91a5b24215e0');\n",
              "          const dataTable =\n",
              "            await google.colab.kernel.invokeFunction('convertToInteractive',\n",
              "                                                     [key], {});\n",
              "          if (!dataTable) return;\n",
              "\n",
              "          const docLinkHtml = 'Like what you see? Visit the ' +\n",
              "            '<a target=\"_blank\" href=https://colab.research.google.com/notebooks/data_table.ipynb>data table notebook</a>'\n",
              "            + ' to learn more about interactive tables.';\n",
              "          element.innerHTML = '';\n",
              "          dataTable['output_type'] = 'display_data';\n",
              "          await google.colab.output.renderOutput(dataTable, element);\n",
              "          const docLink = document.createElement('div');\n",
              "          docLink.innerHTML = docLinkHtml;\n",
              "          element.appendChild(docLink);\n",
              "        }\n",
              "      </script>\n",
              "    </div>\n",
              "  </div>\n",
              "  "
            ]
          },
          "metadata": {},
          "execution_count": 5
        }
      ],
      "source": [
        "le = preprocessing.LabelEncoder()\n",
        "df['artist'] = le.fit_transform(df['artist'].values)\n",
        "df.head()"
      ]
    },
    {
      "cell_type": "code",
      "execution_count": null,
      "metadata": {
        "id": "Iqiiw_9hRzNN"
      },
      "outputs": [],
      "source": [
        "train_df, val_df, _, _ = train_test_split(df, df['artist'].values, test_size=0.2, random_state=args.seed)"
      ]
    },
    {
      "cell_type": "code",
      "execution_count": null,
      "metadata": {
        "id": "EhyMBDj3R1Y2"
      },
      "outputs": [],
      "source": [
        "def get_data(df, infer=False):\n",
        "    if infer:\n",
        "        return df['img_path'].values\n",
        "    return df['img_path'].values, df['artist'].values"
      ]
    },
    {
      "cell_type": "code",
      "execution_count": null,
      "metadata": {
        "id": "dHBmouUPR6ET"
      },
      "outputs": [],
      "source": [
        "train_img_paths, train_labels = get_data(train_df)\n",
        "val_img_paths, val_labels = get_data(val_df)"
      ]
    },
    {
      "cell_type": "code",
      "execution_count": null,
      "metadata": {
        "id": "x_lliZu_R7OP"
      },
      "outputs": [],
      "source": [
        "class CustomDataset(Dataset):\n",
        "    def __init__(self, img_paths, labels, transforms=None):\n",
        "        self.img_paths = img_paths\n",
        "        self.labels = labels\n",
        "        self.transforms = transforms\n",
        "\n",
        "    def __getitem__(self, index):\n",
        "        img_path = self.img_paths[index]\n",
        "        image = cv2.imread(img_path)\n",
        "        image = cv2.cvtColor(image, cv2.COLOR_BGR2RGB)\n",
        "        \n",
        "        # 이미지 길이 1 / 2\n",
        "\n",
        "        if self.labels is not None: # train\n",
        "          h, w, _ = image.shape\n",
        "          size = (h, w)\n",
        "          inner_transform = A.Compose([A.RandomCrop(width=w//2, height=h//2)])\n",
        "        else: # test\n",
        "          h, w, _ = image.shape\n",
        "          size = (2*h, 2*w)\n",
        "        \n",
        "        if self.transforms is not None:\n",
        "            if self.labels is not None: # train\n",
        "              image = inner_transform(image=image)['image']\n",
        "            image = self.transforms(image=image)['image']\n",
        "        \n",
        "        if self.labels is not None:\n",
        "            label = self.labels[index]\n",
        "            return image, label # size\n",
        "        else:\n",
        "            return image # size\n",
        "    \n",
        "    def __len__(self):\n",
        "        return len(self.img_paths)"
      ]
    },
    {
      "cell_type": "code",
      "execution_count": null,
      "metadata": {
        "id": "b1N3W_rmR_mF"
      },
      "outputs": [],
      "source": [
        "# random flip\n",
        "train_transform = A.Compose([\n",
        "                            A.HorizontalFlip(),\n",
        "                            A.Resize(args.img_size,args.img_size),\n",
        "                            A.Normalize(mean=(0.485, 0.456, 0.406), std=(0.229, 0.224, 0.225), max_pixel_value=255.0, always_apply=False, p=1.0),\n",
        "                            ToTensorV2()\n",
        "                            ])\n",
        "\n",
        "test_transform = A.Compose([\n",
        "                            A.Resize(args.img_size,args.img_size),\n",
        "                            A.Normalize(mean=(0.485, 0.456, 0.406), std=(0.229, 0.224, 0.225), max_pixel_value=255.0, always_apply=False, p=1.0),\n",
        "                            ToTensorV2()\n",
        "                            ])"
      ]
    },
    {
      "cell_type": "code",
      "execution_count": null,
      "metadata": {
        "id": "-1XfSnVgSBsm"
      },
      "outputs": [],
      "source": [
        "train_dataset = CustomDataset(train_img_paths, train_labels, train_transform)\n",
        "train_loader = DataLoader(train_dataset, batch_size = args.batch_size, shuffle=True, num_workers=0)\n",
        "\n",
        "val_dataset = CustomDataset(val_img_paths, val_labels, test_transform)\n",
        "val_loader = DataLoader(val_dataset, batch_size=args.batch_size, shuffle=False, num_workers=0)"
      ]
    },
    {
      "cell_type": "code",
      "execution_count": null,
      "metadata": {
        "colab": {
          "base_uri": "https://localhost:8080/"
        },
        "id": "3O4h-1DB0wLr",
        "outputId": "017ceaca-cd53-43e1-9809-4272c0c0d827"
      },
      "outputs": [
        {
          "output_type": "execute_result",
          "data": {
            "text/plain": [
              "Sequential(\n",
              "  (0): Dropout(p=0.4, inplace=True)\n",
              "  (1): Linear(in_features=1792, out_features=1000, bias=True)\n",
              ")"
            ]
          },
          "metadata": {},
          "execution_count": 12
        }
      ],
      "source": [
        "test = models.efficientnet_b4()\n",
        "test.classifier"
      ]
    },
    {
      "cell_type": "code",
      "execution_count": null,
      "metadata": {
        "id": "NPOl4mfqSFLZ"
      },
      "outputs": [],
      "source": [
        "class BaseModel(nn.Module):\n",
        "    def __init__(self, num_classes=len(le.classes_)):\n",
        "        super(BaseModel, self).__init__()\n",
        "        self.backbone = models.efficientnet_b4(weights='DEFAULT')\n",
        "        self.backbone.classifier = nn.Sequential()\n",
        "        self.drop = nn.Dropout(0.3, inplace=True)\n",
        "        self.clf = nn.Sequential(\n",
        "            nn.Linear(1792,  512),\n",
        "            nn.BatchNorm1d(512),\n",
        "            nn.LeakyReLU(0.2, inplace=False),\n",
        "            nn.Dropout(p=0.4, inplace=True),\n",
        "            nn.Linear(512, num_classes)\n",
        "        )\n",
        "        \n",
        "    def forward(self, x):\n",
        "        x = self.backbone(x)\n",
        "\n",
        "        # h = size[0]\n",
        "        # w = size[1]\n",
        "\n",
        "        # why not working?\n",
        "        # h = h.view(h.size(), 1)\n",
        "        # w = w.view(w.size(), 1)\n",
        "        # h = h.view(h.size(0), 1)\n",
        "        # w = w.view(w.size(0), 1)\n",
        "        x = self.drop(x)\n",
        "        # x = torch.cat((x, h, w), 1) # 여기 cat부분이 cnn부분 끝나고 분류하는 layer들어가기 전에 붙인 부분입니다.\n",
        "        x = self.clf(x)\n",
        "        return x"
      ]
    },
    {
      "cell_type": "code",
      "execution_count": null,
      "metadata": {
        "id": "Fm_C6nqCSIK9"
      },
      "outputs": [],
      "source": [
        "def competition_metric(true, pred):\n",
        "    return f1_score(true, pred, average=\"macro\")\n",
        "\n",
        "def validation(model, criterion, test_loader, device):\n",
        "    model.eval()\n",
        "    \n",
        "    model_preds = []\n",
        "    true_labels = []\n",
        "    \n",
        "    val_loss = []\n",
        "    \n",
        "    with torch.no_grad():\n",
        "        for img, label in tqdm(test_loader):\n",
        "            img, label = img.float().to(device), label.to(device)\n",
        "            # h = size[0].to(device)\n",
        "            # w = size[1].to(device)\n",
        "            # model_pred = model(img, (h, w))\n",
        "            model_pred = model(img)\n",
        "            \n",
        "            loss = criterion(model_pred, label)\n",
        "            \n",
        "            val_loss.append(loss.item())\n",
        "            \n",
        "            model_preds += model_pred.argmax(1).detach().cpu().numpy().tolist()\n",
        "            true_labels += label.detach().cpu().numpy().tolist()\n",
        "        \n",
        "    val_f1 = competition_metric(true_labels, model_preds)\n",
        "    return np.mean(val_loss), val_f1"
      ]
    },
    {
      "cell_type": "code",
      "execution_count": null,
      "metadata": {
        "id": "plqxgpx9SKZI"
      },
      "outputs": [],
      "source": [
        "def train(model, optimizer, train_loader, test_loader, scheduler, device):\n",
        "    model.to(device)\n",
        "\n",
        "    criterion = nn.CrossEntropyLoss().to(device)\n",
        "    \n",
        "    best_score = 0\n",
        "    best_model = None\n",
        "    \n",
        "    for epoch in range(1, args.epochs+1):\n",
        "        model.train()\n",
        "        train_loss = []\n",
        "        for img, label in tqdm(train_loader):\n",
        "            img, label = img.float().to(device), label.to(device)\n",
        "            # h = size[0].to(device)\n",
        "            # w = size[1].to(device)\n",
        "            optimizer.zero_grad()\n",
        "\n",
        "            # model_pred = model(img, (h, w))\n",
        "            model_pred = model(img)\n",
        "\n",
        "            \n",
        "            loss = criterion(model_pred, label)\n",
        "\n",
        "            loss.backward()\n",
        "            optimizer.step()\n",
        "\n",
        "            train_loss.append(loss.item())\n",
        "\n",
        "        tr_loss = np.mean(train_loss)\n",
        "            \n",
        "        val_loss, val_score = validation(model, criterion, test_loader, device)\n",
        "            \n",
        "        print(f'Epoch [{epoch}], Train Loss : [{tr_loss:.5f}] Val Loss : [{val_loss:.5f}] Val F1 Score : [{val_score:.5f}]')\n",
        "        \n",
        "        if scheduler is not None:\n",
        "            scheduler.step()\n",
        "            \n",
        "        if best_score < val_score:\n",
        "            best_model = model\n",
        "            best_score = val_score\n",
        "        \n",
        "    return best_model"
      ]
    },
    {
      "cell_type": "code",
      "execution_count": null,
      "metadata": {
        "colab": {
          "base_uri": "https://localhost:8080/"
        },
        "id": "MqFO0NQ9SNaw",
        "outputId": "95f61f33-0cbd-4496-ab4c-ca702d2f4926"
      },
      "outputs": [
        {
          "output_type": "stream",
          "name": "stderr",
          "text": [
            "100%|██████████| 148/148 [02:23<00:00,  1.03it/s]\n",
            "100%|██████████| 37/37 [00:22<00:00,  1.64it/s]\n"
          ]
        },
        {
          "output_type": "stream",
          "name": "stdout",
          "text": [
            "Epoch [1], Train Loss : [2.34704] Val Loss : [1.51729] Val F1 Score : [0.44103]\n"
          ]
        },
        {
          "output_type": "stream",
          "name": "stderr",
          "text": [
            "100%|██████████| 148/148 [02:19<00:00,  1.06it/s]\n",
            "100%|██████████| 37/37 [00:21<00:00,  1.76it/s]\n"
          ]
        },
        {
          "output_type": "stream",
          "name": "stdout",
          "text": [
            "Epoch [2], Train Loss : [1.38245] Val Loss : [1.16689] Val F1 Score : [0.57445]\n"
          ]
        },
        {
          "output_type": "stream",
          "name": "stderr",
          "text": [
            "100%|██████████| 148/148 [02:19<00:00,  1.06it/s]\n",
            "100%|██████████| 37/37 [00:20<00:00,  1.77it/s]\n"
          ]
        },
        {
          "output_type": "stream",
          "name": "stdout",
          "text": [
            "Epoch [3], Train Loss : [1.04542] Val Loss : [0.98013] Val F1 Score : [0.63230]\n"
          ]
        },
        {
          "output_type": "stream",
          "name": "stderr",
          "text": [
            "100%|██████████| 148/148 [02:19<00:00,  1.06it/s]\n",
            "100%|██████████| 37/37 [00:21<00:00,  1.75it/s]\n"
          ]
        },
        {
          "output_type": "stream",
          "name": "stdout",
          "text": [
            "Epoch [4], Train Loss : [0.83897] Val Loss : [0.93963] Val F1 Score : [0.66422]\n"
          ]
        },
        {
          "output_type": "stream",
          "name": "stderr",
          "text": [
            "100%|██████████| 148/148 [02:20<00:00,  1.05it/s]\n",
            "100%|██████████| 37/37 [00:21<00:00,  1.74it/s]\n"
          ]
        },
        {
          "output_type": "stream",
          "name": "stdout",
          "text": [
            "Epoch [5], Train Loss : [0.68403] Val Loss : [0.92131] Val F1 Score : [0.69605]\n"
          ]
        },
        {
          "output_type": "stream",
          "name": "stderr",
          "text": [
            "100%|██████████| 148/148 [02:19<00:00,  1.06it/s]\n",
            "100%|██████████| 37/37 [00:21<00:00,  1.76it/s]\n"
          ]
        },
        {
          "output_type": "stream",
          "name": "stdout",
          "text": [
            "Epoch [6], Train Loss : [0.56903] Val Loss : [0.90596] Val F1 Score : [0.68545]\n"
          ]
        },
        {
          "output_type": "stream",
          "name": "stderr",
          "text": [
            "100%|██████████| 148/148 [02:20<00:00,  1.06it/s]\n",
            "100%|██████████| 37/37 [00:20<00:00,  1.77it/s]\n"
          ]
        },
        {
          "output_type": "stream",
          "name": "stdout",
          "text": [
            "Epoch [7], Train Loss : [0.50108] Val Loss : [0.92115] Val F1 Score : [0.70367]\n"
          ]
        },
        {
          "output_type": "stream",
          "name": "stderr",
          "text": [
            "100%|██████████| 148/148 [02:20<00:00,  1.06it/s]\n",
            "100%|██████████| 37/37 [00:21<00:00,  1.76it/s]\n"
          ]
        },
        {
          "output_type": "stream",
          "name": "stdout",
          "text": [
            "Epoch [8], Train Loss : [0.42908] Val Loss : [0.83590] Val F1 Score : [0.75134]\n"
          ]
        },
        {
          "output_type": "stream",
          "name": "stderr",
          "text": [
            "100%|██████████| 148/148 [02:21<00:00,  1.05it/s]\n",
            "100%|██████████| 37/37 [00:21<00:00,  1.75it/s]\n"
          ]
        },
        {
          "output_type": "stream",
          "name": "stdout",
          "text": [
            "Epoch [9], Train Loss : [0.36425] Val Loss : [0.87981] Val F1 Score : [0.70432]\n"
          ]
        },
        {
          "output_type": "stream",
          "name": "stderr",
          "text": [
            "100%|██████████| 148/148 [02:21<00:00,  1.05it/s]\n",
            "100%|██████████| 37/37 [00:21<00:00,  1.75it/s]\n"
          ]
        },
        {
          "output_type": "stream",
          "name": "stdout",
          "text": [
            "Epoch [10], Train Loss : [0.33593] Val Loss : [0.94971] Val F1 Score : [0.70852]\n"
          ]
        },
        {
          "output_type": "stream",
          "name": "stderr",
          "text": [
            "100%|██████████| 148/148 [02:21<00:00,  1.05it/s]\n",
            "100%|██████████| 37/37 [00:21<00:00,  1.75it/s]\n"
          ]
        },
        {
          "output_type": "stream",
          "name": "stdout",
          "text": [
            "Epoch [11], Train Loss : [0.34409] Val Loss : [0.90026] Val F1 Score : [0.70877]\n"
          ]
        },
        {
          "output_type": "stream",
          "name": "stderr",
          "text": [
            "100%|██████████| 148/148 [02:20<00:00,  1.05it/s]\n",
            "100%|██████████| 37/37 [00:21<00:00,  1.75it/s]\n"
          ]
        },
        {
          "output_type": "stream",
          "name": "stdout",
          "text": [
            "Epoch [12], Train Loss : [0.30339] Val Loss : [0.90030] Val F1 Score : [0.73635]\n"
          ]
        },
        {
          "output_type": "stream",
          "name": "stderr",
          "text": [
            "100%|██████████| 148/148 [02:21<00:00,  1.05it/s]\n",
            "100%|██████████| 37/37 [00:22<00:00,  1.66it/s]\n"
          ]
        },
        {
          "output_type": "stream",
          "name": "stdout",
          "text": [
            "Epoch [13], Train Loss : [0.28076] Val Loss : [0.90732] Val F1 Score : [0.72078]\n"
          ]
        },
        {
          "output_type": "stream",
          "name": "stderr",
          "text": [
            "100%|██████████| 148/148 [02:21<00:00,  1.04it/s]\n",
            "100%|██████████| 37/37 [00:21<00:00,  1.74it/s]\n"
          ]
        },
        {
          "output_type": "stream",
          "name": "stdout",
          "text": [
            "Epoch [14], Train Loss : [0.28241] Val Loss : [0.98942] Val F1 Score : [0.71260]\n"
          ]
        },
        {
          "output_type": "stream",
          "name": "stderr",
          "text": [
            "100%|██████████| 148/148 [02:22<00:00,  1.04it/s]\n",
            "100%|██████████| 37/37 [00:21<00:00,  1.74it/s]\n"
          ]
        },
        {
          "output_type": "stream",
          "name": "stdout",
          "text": [
            "Epoch [15], Train Loss : [0.24507] Val Loss : [0.93461] Val F1 Score : [0.70268]\n"
          ]
        },
        {
          "output_type": "stream",
          "name": "stderr",
          "text": [
            "100%|██████████| 148/148 [02:21<00:00,  1.05it/s]\n",
            "100%|██████████| 37/37 [00:21<00:00,  1.74it/s]\n"
          ]
        },
        {
          "output_type": "stream",
          "name": "stdout",
          "text": [
            "Epoch [16], Train Loss : [0.23548] Val Loss : [0.88316] Val F1 Score : [0.73452]\n"
          ]
        },
        {
          "output_type": "stream",
          "name": "stderr",
          "text": [
            "100%|██████████| 148/148 [02:21<00:00,  1.05it/s]\n",
            "100%|██████████| 37/37 [00:21<00:00,  1.75it/s]\n"
          ]
        },
        {
          "output_type": "stream",
          "name": "stdout",
          "text": [
            "Epoch [17], Train Loss : [0.22746] Val Loss : [0.89914] Val F1 Score : [0.71869]\n"
          ]
        },
        {
          "output_type": "stream",
          "name": "stderr",
          "text": [
            "100%|██████████| 148/148 [02:21<00:00,  1.05it/s]\n",
            "100%|██████████| 37/37 [00:22<00:00,  1.65it/s]\n"
          ]
        },
        {
          "output_type": "stream",
          "name": "stdout",
          "text": [
            "Epoch [18], Train Loss : [0.23094] Val Loss : [0.89646] Val F1 Score : [0.74289]\n"
          ]
        },
        {
          "output_type": "stream",
          "name": "stderr",
          "text": [
            "100%|██████████| 148/148 [02:21<00:00,  1.05it/s]\n",
            "100%|██████████| 37/37 [00:21<00:00,  1.75it/s]\n"
          ]
        },
        {
          "output_type": "stream",
          "name": "stdout",
          "text": [
            "Epoch [19], Train Loss : [0.24842] Val Loss : [0.89431] Val F1 Score : [0.74034]\n"
          ]
        },
        {
          "output_type": "stream",
          "name": "stderr",
          "text": [
            "100%|██████████| 148/148 [02:21<00:00,  1.05it/s]\n",
            "100%|██████████| 37/37 [00:21<00:00,  1.74it/s]"
          ]
        },
        {
          "output_type": "stream",
          "name": "stdout",
          "text": [
            "Epoch [20], Train Loss : [0.20758] Val Loss : [0.94006] Val F1 Score : [0.73444]\n"
          ]
        },
        {
          "output_type": "stream",
          "name": "stderr",
          "text": [
            "\n"
          ]
        }
      ],
      "source": [
        "# ckpt = torch.load('/content/drive/MyDrive/data/model/')\n",
        "# model = BaseModel().to(args.device)\n",
        "model = BaseModel()\n",
        "# model.load_state_dict(ckpt['model'])\n",
        "model.eval()\n",
        "optimizer = torch.optim.Adam(params = model.parameters(), lr = args.lr)\n",
        "# optimizer.load_state_dict(ckpt['optim'])\n",
        "scheduler = None\n",
        "# scheduler = torch.optim.StepLR(optimizer, step_size=15, gamma=0.1)\n",
        "\n",
        "infer_model = train(model, optimizer, train_loader, val_loader, scheduler, args.device)"
      ]
    },
    {
      "cell_type": "code",
      "execution_count": null,
      "metadata": {
        "id": "BBVXgh2C8rOJ"
      },
      "outputs": [],
      "source": [
        "torch.save({\n",
        "    'model': model.state_dict(),\n",
        "    'optim': optimizer.state_dict()\n",
        "}, '20epoch_efficientnet_b4.tar')"
      ]
    },
    {
      "cell_type": "code",
      "execution_count": null,
      "metadata": {
        "id": "f6a79LicdNgz"
      },
      "outputs": [],
      "source": [
        "test_df = pd.read_csv('./test.csv')"
      ]
    },
    {
      "cell_type": "code",
      "execution_count": null,
      "metadata": {
        "id": "PTb7CbJiSSdU"
      },
      "outputs": [],
      "source": [
        "test_img_paths = get_data(test_df, infer=True)"
      ]
    },
    {
      "cell_type": "code",
      "execution_count": null,
      "metadata": {
        "id": "4SW1S_pAdK73"
      },
      "outputs": [],
      "source": [
        "test_dataset = CustomDataset(test_img_paths, None, test_transform)\n",
        "test_loader = DataLoader(test_dataset, batch_size=args.batch_size, shuffle=False, num_workers=0)"
      ]
    },
    {
      "cell_type": "code",
      "execution_count": null,
      "metadata": {
        "id": "jUZ3-g2odTsQ"
      },
      "outputs": [],
      "source": [
        "def inference(model, test_loader, device):\n",
        "    model.to(device)\n",
        "    model.eval()\n",
        "    \n",
        "    model_preds = []\n",
        "    \n",
        "    with torch.no_grad():\n",
        "        for img in tqdm(iter(test_loader)):\n",
        "            img = img.float().to(device)\n",
        "            # h = size[0].to(device)\n",
        "            # w = size[1].to(device)\n",
        "            # h = h.view(h.size(0), 1)\n",
        "            # w = h.view(w.size(0), 1)\n",
        "            \n",
        "            model_pred = model(img)\n",
        "            model_preds += model_pred.argmax(1).detach().cpu().numpy().tolist()\n",
        "    \n",
        "    print('Done.')\n",
        "    return model_preds"
      ]
    },
    {
      "cell_type": "code",
      "execution_count": null,
      "metadata": {
        "colab": {
          "base_uri": "https://localhost:8080/"
        },
        "id": "IJIDPbqodc0W",
        "outputId": "7d2310db-08a5-4d7a-910d-8142bd4b4d01"
      },
      "outputs": [
        {
          "output_type": "stream",
          "name": "stderr",
          "text": [
            "100%|██████████| 396/396 [02:00<00:00,  3.29it/s]"
          ]
        },
        {
          "output_type": "stream",
          "name": "stdout",
          "text": [
            "Done.\n"
          ]
        },
        {
          "output_type": "stream",
          "name": "stderr",
          "text": [
            "\n"
          ]
        }
      ],
      "source": [
        "preds = inference(infer_model, test_loader, args.device)"
      ]
    },
    {
      "cell_type": "code",
      "execution_count": null,
      "metadata": {
        "id": "cNrooHhpdf6u"
      },
      "outputs": [],
      "source": [
        "preds = le.inverse_transform(preds) "
      ]
    },
    {
      "cell_type": "code",
      "execution_count": null,
      "metadata": {
        "id": "CehyPJCGdjUG"
      },
      "outputs": [],
      "source": [
        "submit = pd.read_csv('./sample_submission.csv')"
      ]
    },
    {
      "cell_type": "code",
      "execution_count": null,
      "metadata": {
        "colab": {
          "base_uri": "https://localhost:8080/",
          "height": 206
        },
        "id": "TlwvKxHhdldl",
        "outputId": "15b11039-ecd9-42dd-ef02-b271054fe8b4"
      },
      "outputs": [
        {
          "output_type": "execute_result",
          "data": {
            "text/plain": [
              "           id                     artist\n",
              "0  TEST_00000                Edgar Degas\n",
              "1  TEST_00001          Amedeo Modigliani\n",
              "2  TEST_00002                     Titian\n",
              "3  TEST_00003            Albrecht Du rer\n",
              "4  TEST_00004  Henri de Toulouse-Lautrec"
            ],
            "text/html": [
              "\n",
              "  <div id=\"df-bcb12ae9-a3a1-4edf-89e8-ebb8327ac1c0\">\n",
              "    <div class=\"colab-df-container\">\n",
              "      <div>\n",
              "<style scoped>\n",
              "    .dataframe tbody tr th:only-of-type {\n",
              "        vertical-align: middle;\n",
              "    }\n",
              "\n",
              "    .dataframe tbody tr th {\n",
              "        vertical-align: top;\n",
              "    }\n",
              "\n",
              "    .dataframe thead th {\n",
              "        text-align: right;\n",
              "    }\n",
              "</style>\n",
              "<table border=\"1\" class=\"dataframe\">\n",
              "  <thead>\n",
              "    <tr style=\"text-align: right;\">\n",
              "      <th></th>\n",
              "      <th>id</th>\n",
              "      <th>artist</th>\n",
              "    </tr>\n",
              "  </thead>\n",
              "  <tbody>\n",
              "    <tr>\n",
              "      <th>0</th>\n",
              "      <td>TEST_00000</td>\n",
              "      <td>Edgar Degas</td>\n",
              "    </tr>\n",
              "    <tr>\n",
              "      <th>1</th>\n",
              "      <td>TEST_00001</td>\n",
              "      <td>Amedeo Modigliani</td>\n",
              "    </tr>\n",
              "    <tr>\n",
              "      <th>2</th>\n",
              "      <td>TEST_00002</td>\n",
              "      <td>Titian</td>\n",
              "    </tr>\n",
              "    <tr>\n",
              "      <th>3</th>\n",
              "      <td>TEST_00003</td>\n",
              "      <td>Albrecht Du rer</td>\n",
              "    </tr>\n",
              "    <tr>\n",
              "      <th>4</th>\n",
              "      <td>TEST_00004</td>\n",
              "      <td>Henri de Toulouse-Lautrec</td>\n",
              "    </tr>\n",
              "  </tbody>\n",
              "</table>\n",
              "</div>\n",
              "      <button class=\"colab-df-convert\" onclick=\"convertToInteractive('df-bcb12ae9-a3a1-4edf-89e8-ebb8327ac1c0')\"\n",
              "              title=\"Convert this dataframe to an interactive table.\"\n",
              "              style=\"display:none;\">\n",
              "        \n",
              "  <svg xmlns=\"http://www.w3.org/2000/svg\" height=\"24px\"viewBox=\"0 0 24 24\"\n",
              "       width=\"24px\">\n",
              "    <path d=\"M0 0h24v24H0V0z\" fill=\"none\"/>\n",
              "    <path d=\"M18.56 5.44l.94 2.06.94-2.06 2.06-.94-2.06-.94-.94-2.06-.94 2.06-2.06.94zm-11 1L8.5 8.5l.94-2.06 2.06-.94-2.06-.94L8.5 2.5l-.94 2.06-2.06.94zm10 10l.94 2.06.94-2.06 2.06-.94-2.06-.94-.94-2.06-.94 2.06-2.06.94z\"/><path d=\"M17.41 7.96l-1.37-1.37c-.4-.4-.92-.59-1.43-.59-.52 0-1.04.2-1.43.59L10.3 9.45l-7.72 7.72c-.78.78-.78 2.05 0 2.83L4 21.41c.39.39.9.59 1.41.59.51 0 1.02-.2 1.41-.59l7.78-7.78 2.81-2.81c.8-.78.8-2.07 0-2.86zM5.41 20L4 18.59l7.72-7.72 1.47 1.35L5.41 20z\"/>\n",
              "  </svg>\n",
              "      </button>\n",
              "      \n",
              "  <style>\n",
              "    .colab-df-container {\n",
              "      display:flex;\n",
              "      flex-wrap:wrap;\n",
              "      gap: 12px;\n",
              "    }\n",
              "\n",
              "    .colab-df-convert {\n",
              "      background-color: #E8F0FE;\n",
              "      border: none;\n",
              "      border-radius: 50%;\n",
              "      cursor: pointer;\n",
              "      display: none;\n",
              "      fill: #1967D2;\n",
              "      height: 32px;\n",
              "      padding: 0 0 0 0;\n",
              "      width: 32px;\n",
              "    }\n",
              "\n",
              "    .colab-df-convert:hover {\n",
              "      background-color: #E2EBFA;\n",
              "      box-shadow: 0px 1px 2px rgba(60, 64, 67, 0.3), 0px 1px 3px 1px rgba(60, 64, 67, 0.15);\n",
              "      fill: #174EA6;\n",
              "    }\n",
              "\n",
              "    [theme=dark] .colab-df-convert {\n",
              "      background-color: #3B4455;\n",
              "      fill: #D2E3FC;\n",
              "    }\n",
              "\n",
              "    [theme=dark] .colab-df-convert:hover {\n",
              "      background-color: #434B5C;\n",
              "      box-shadow: 0px 1px 3px 1px rgba(0, 0, 0, 0.15);\n",
              "      filter: drop-shadow(0px 1px 2px rgba(0, 0, 0, 0.3));\n",
              "      fill: #FFFFFF;\n",
              "    }\n",
              "  </style>\n",
              "\n",
              "      <script>\n",
              "        const buttonEl =\n",
              "          document.querySelector('#df-bcb12ae9-a3a1-4edf-89e8-ebb8327ac1c0 button.colab-df-convert');\n",
              "        buttonEl.style.display =\n",
              "          google.colab.kernel.accessAllowed ? 'block' : 'none';\n",
              "\n",
              "        async function convertToInteractive(key) {\n",
              "          const element = document.querySelector('#df-bcb12ae9-a3a1-4edf-89e8-ebb8327ac1c0');\n",
              "          const dataTable =\n",
              "            await google.colab.kernel.invokeFunction('convertToInteractive',\n",
              "                                                     [key], {});\n",
              "          if (!dataTable) return;\n",
              "\n",
              "          const docLinkHtml = 'Like what you see? Visit the ' +\n",
              "            '<a target=\"_blank\" href=https://colab.research.google.com/notebooks/data_table.ipynb>data table notebook</a>'\n",
              "            + ' to learn more about interactive tables.';\n",
              "          element.innerHTML = '';\n",
              "          dataTable['output_type'] = 'display_data';\n",
              "          await google.colab.output.renderOutput(dataTable, element);\n",
              "          const docLink = document.createElement('div');\n",
              "          docLink.innerHTML = docLinkHtml;\n",
              "          element.appendChild(docLink);\n",
              "        }\n",
              "      </script>\n",
              "    </div>\n",
              "  </div>\n",
              "  "
            ]
          },
          "metadata": {},
          "execution_count": 29
        }
      ],
      "source": [
        "submit['artist'] = preds\n",
        "submit.head()"
      ]
    },
    {
      "cell_type": "code",
      "execution_count": null,
      "metadata": {
        "id": "v1vCQWm6dp-7"
      },
      "outputs": [],
      "source": [
        "submit.to_csv('./efficient_b4_2mlp.csv', index=False)"
      ]
    },
    {
      "cell_type": "code",
      "execution_count": null,
      "metadata": {
        "colab": {
          "base_uri": "https://localhost:8080/"
        },
        "id": "krjoD2lBGV9v",
        "outputId": "39c4d23a-5df6-414d-d961-aa8c4eee09a3"
      },
      "outputs": [
        {
          "data": {
            "text/plain": [
              "1950351360"
            ]
          },
          "execution_count": 30,
          "metadata": {},
          "output_type": "execute_result"
        }
      ],
      "source": [
        "torch.cuda.memory_reserved()"
      ]
    },
    {
      "cell_type": "code",
      "execution_count": null,
      "metadata": {
        "id": "59aZPa8mHE5q"
      },
      "outputs": [],
      "source": [
        "torch.cuda.empty_cache()"
      ]
    }
  ],
  "metadata": {
    "accelerator": "GPU",
    "colab": {
      "collapsed_sections": [],
      "provenance": []
    },
    "gpuClass": "premium",
    "kernelspec": {
      "display_name": "Python 3",
      "name": "python3"
    },
    "language_info": {
      "name": "python"
    }
  },
  "nbformat": 4,
  "nbformat_minor": 0
}