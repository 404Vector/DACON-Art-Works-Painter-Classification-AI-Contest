{
 "cells": [
  {
   "cell_type": "markdown",
   "metadata": {},
   "source": [
    "# Data downloader\n",
    "\n",
    "이 노트북은 데이콘의 데이터 압축파일을 다운받아 'data' 폴더에 압축해제하는 작업을 자동화합니다."
   ]
  },
  {
   "cell_type": "markdown",
   "metadata": {},
   "source": [
    "### Import library"
   ]
  },
  {
   "cell_type": "code",
   "execution_count": 1,
   "metadata": {},
   "outputs": [],
   "source": [
    "import os\n",
    "import zipfile"
   ]
  },
  {
   "cell_type": "markdown",
   "metadata": {},
   "source": [
    "### Download data file"
   ]
  },
  {
   "cell_type": "code",
   "execution_count": 3,
   "metadata": {},
   "outputs": [
    {
     "name": "stdout",
     "output_type": "stream",
     "text": [
      "--2022-10-15 11:36:45--  https://docs.google.com/uc?export=download&confirm=t&id=1SZ5j8SJTCqQQuNHTMDHXSOMShKUvB479\n",
      "Resolving docs.google.com (docs.google.com)... 172.217.31.174, 2404:6800:4004:80a::200e\n",
      "Connecting to docs.google.com (docs.google.com)|172.217.31.174|:443... connected.\n",
      "HTTP request sent, awaiting response... 303 See Other\n",
      "Location: https://doc-00-9o-docs.googleusercontent.com/docs/securesc/ha0ro937gcuc7l7deffksulhg5h7mbp1/j5aoeoqt3erttea0og100g44vpcvm6jd/1665833775000/00770885000471893693/*/1SZ5j8SJTCqQQuNHTMDHXSOMShKUvB479?e=download&uuid=c1bc301c-6467-4c8d-a385-c407c3775be5 [following]\n",
      "Warning: wildcards not supported in HTTP.\n",
      "--2022-10-15 11:36:45--  https://doc-00-9o-docs.googleusercontent.com/docs/securesc/ha0ro937gcuc7l7deffksulhg5h7mbp1/j5aoeoqt3erttea0og100g44vpcvm6jd/1665833775000/00770885000471893693/*/1SZ5j8SJTCqQQuNHTMDHXSOMShKUvB479?e=download&uuid=c1bc301c-6467-4c8d-a385-c407c3775be5\n",
      "Resolving doc-00-9o-docs.googleusercontent.com (doc-00-9o-docs.googleusercontent.com)... 142.250.199.97, 142.250.196.97, 2404:6800:4004:821::2001, ...\n",
      "Connecting to doc-00-9o-docs.googleusercontent.com (doc-00-9o-docs.googleusercontent.com)|142.250.199.97|:443... connected.\n",
      "HTTP request sent, awaiting response... 200 OK\n",
      "Length: 2556634947 (2.4G) [application/x-zip-compressed]\n",
      "Saving to: ‘open.zip’\n",
      "\n",
      "open.zip            100%[===================>]   2.38G  1.67MB/s    in 27m 45s \n",
      "\n",
      "2022-10-15 12:04:31 (1.46 MB/s) - ‘open.zip’ saved [2556634947/2556634947]\n",
      "\n"
     ]
    }
   ],
   "source": [
    "if(os.path.exists(\"open.zip\") == True):\n",
    "    print('SKIP DOWNLOAD! - file already exist.')\n",
    "else:\n",
    "    !wget --load-cookies ~/cookies.txt \"https://docs.google.com/uc?export=download&confirm=$(wget --quiet --save-cookies ~/cookies.txt --keep-session-cookies --no-check-certificate 'https://docs.google.com/uc?export=download&id=1SZ5j8SJTCqQQuNHTMDHXSOMShKUvB479' -O- | sed -rn 's/.*confirm=([0-9A-Za-z_]+).*/\\1\\n/p')&id=1SZ5j8SJTCqQQuNHTMDHXSOMShKUvB479\" -O \"open.zip\" && rm -rf ~/cookies.txt\n"
   ]
  },
  {
   "cell_type": "markdown",
   "metadata": {},
   "source": [
    "### Unzip file"
   ]
  },
  {
   "cell_type": "code",
   "execution_count": 4,
   "metadata": {},
   "outputs": [],
   "source": [
    "if(os.path.exists(\"open.zip\") == False):\n",
    "    print(\"ERROR, file does not exist\")\n",
    "else:\n",
    "    fantasy_zip = zipfile.ZipFile('open.zip')\n",
    "os.makedirs('data', exist_ok=True)\n",
    "fantasy_zip.extractall('data')\n",
    " \n",
    "fantasy_zip.close()\n",
    "    "
   ]
  },
  {
   "cell_type": "code",
   "execution_count": null,
   "metadata": {},
   "outputs": [],
   "source": []
  }
 ],
 "metadata": {
  "kernelspec": {
   "display_name": "Python 3.7.13 ('base')",
   "language": "python",
   "name": "python3"
  },
  "language_info": {
   "codemirror_mode": {
    "name": "ipython",
    "version": 3
   },
   "file_extension": ".py",
   "mimetype": "text/x-python",
   "name": "python",
   "nbconvert_exporter": "python",
   "pygments_lexer": "ipython3",
   "version": "3.7.13"
  },
  "orig_nbformat": 4,
  "vscode": {
   "interpreter": {
    "hash": "d4d1e4263499bec80672ea0156c357c1ee493ec2b1c70f0acce89fc37c4a6abe"
   }
  }
 },
 "nbformat": 4,
 "nbformat_minor": 2
}
